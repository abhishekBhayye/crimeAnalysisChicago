{
 "cells": [
  {
   "cell_type": "code",
   "execution_count": 1,
   "metadata": {},
   "outputs": [],
   "source": [
    "# Basic imports for Numpy and pandas\n",
    "import numpy as np\n",
    "import pandas as pd"
   ]
  },
  {
   "cell_type": "code",
   "execution_count": 29,
   "metadata": {},
   "outputs": [],
   "source": [
    "# Dataset import using CSV File \n",
    "\n",
    "chicagoCrimeData = pd.read_csv(\"../Data/chicagoCrime.csv\", error_bad_lines=False, encoding='unicode_escape', low_memory=False)"
   ]
  },
  {
   "cell_type": "code",
   "execution_count": 30,
   "metadata": {},
   "outputs": [
    {
     "name": "stdout",
     "output_type": "stream",
     "text": [
      "         ID Case Number                    Date                 Block  IUCR  \\\n",
      "0  11034701    JA366925  01/01/2001 11:00:00 AM       016XX E 86TH PL  1153   \n",
      "1  11227287    JB147188  10/08/2017 03:00:00 AM    092XX S RACINE AVE  0281   \n",
      "2  11227583    JB147595  03/28/2017 02:00:00 PM       026XX W 79TH ST  0620   \n",
      "3  11227293    JB147230  09/09/2017 08:17:00 PM  060XX S EBERHART AVE  0810   \n",
      "4  11227634    JB147599  08/26/2017 10:00:00 AM   001XX W RANDOLPH ST  0281   \n",
      "\n",
      "          Primary Type                          Description  \\\n",
      "0   DECEPTIVE PRACTICE  FINANCIAL IDENTITY THEFT OVER $ 300   \n",
      "1  CRIM SEXUAL ASSAULT                       NON-AGGRAVATED   \n",
      "2             BURGLARY                       UNLAWFUL ENTRY   \n",
      "3                THEFT                            OVER $500   \n",
      "4  CRIM SEXUAL ASSAULT                       NON-AGGRAVATED   \n",
      "\n",
      "  Location Description  Arrest  Domestic  ...  Ward  Community Area  FBI Code  \\\n",
      "0            RESIDENCE   False     False  ...   8.0            45.0        11   \n",
      "1            RESIDENCE   False     False  ...  21.0            73.0        02   \n",
      "2                OTHER   False     False  ...  18.0            70.0        05   \n",
      "3            RESIDENCE   False     False  ...  20.0            42.0        06   \n",
      "4          HOTEL/MOTEL   False     False  ...  42.0            32.0        02   \n",
      "\n",
      "   X Coordinate Y Coordinate  Year              Updated On  Latitude  \\\n",
      "0           NaN          NaN  2001  08/05/2017 03:50:08 PM       NaN   \n",
      "1           NaN          NaN  2017  02/11/2018 03:57:41 PM       NaN   \n",
      "2           NaN          NaN  2017  02/11/2018 03:57:41 PM       NaN   \n",
      "3           NaN          NaN  2017  02/11/2018 03:57:41 PM       NaN   \n",
      "4           NaN          NaN  2017  02/11/2018 03:57:41 PM       NaN   \n",
      "\n",
      "  Longitude  Location  \n",
      "0       NaN       NaN  \n",
      "1       NaN       NaN  \n",
      "2       NaN       NaN  \n",
      "3       NaN       NaN  \n",
      "4       NaN       NaN  \n",
      "\n",
      "[5 rows x 22 columns]\n"
     ]
    }
   ],
   "source": [
    "# Check Data Entries by using head value\n",
    "\n",
    "print(chicagoCrimeData.head())"
   ]
  },
  {
   "cell_type": "code",
   "execution_count": 31,
   "metadata": {},
   "outputs": [
    {
     "data": {
      "text/plain": [
       "(7171923, 22)"
      ]
     },
     "execution_count": 31,
     "metadata": {},
     "output_type": "execute_result"
    }
   ],
   "source": [
    "# Checking shape of the data\n",
    "\n",
    "chicagoCrimeData.shape"
   ]
  },
  {
   "cell_type": "code",
   "execution_count": 32,
   "metadata": {},
   "outputs": [
    {
     "data": {
      "text/plain": [
       "ID                           0\n",
       "Case Number                  4\n",
       "Date                         0\n",
       "Block                        0\n",
       "IUCR                         0\n",
       "Primary Type                 0\n",
       "Description                  0\n",
       "Location Description      7110\n",
       "Arrest                       0\n",
       "Domestic                     0\n",
       "Beat                         0\n",
       "District                    47\n",
       "Ward                    614829\n",
       "Community Area          613484\n",
       "FBI Code                     0\n",
       "X Coordinate             69243\n",
       "Y Coordinate             69243\n",
       "Year                         0\n",
       "Updated On                   0\n",
       "Latitude                 69243\n",
       "Longitude                69243\n",
       "Location                 69243\n",
       "dtype: int64"
      ]
     },
     "execution_count": 32,
     "metadata": {},
     "output_type": "execute_result"
    }
   ],
   "source": [
    "# Check the Missing values\n",
    "\n",
    "chicagoCrimeData.isna().sum()"
   ]
  },
  {
   "cell_type": "code",
   "execution_count": 33,
   "metadata": {},
   "outputs": [],
   "source": [
    "# Dropping the missing values as they contribute less than 10% of overall data\n",
    "\n",
    "chicagoCrimeData = chicagoCrimeData.dropna(axis=0)"
   ]
  },
  {
   "cell_type": "code",
   "execution_count": 34,
   "metadata": {},
   "outputs": [
    {
     "name": "stdout",
     "output_type": "stream",
     "text": [
      "<class 'pandas.core.frame.DataFrame'>\n",
      "Int64Index: 6491263 entries, 60283 to 7171922\n",
      "Data columns (total 22 columns):\n",
      "ID                      int64\n",
      "Case Number             object\n",
      "Date                    object\n",
      "Block                   object\n",
      "IUCR                    object\n",
      "Primary Type            object\n",
      "Description             object\n",
      "Location Description    object\n",
      "Arrest                  bool\n",
      "Domestic                bool\n",
      "Beat                    int64\n",
      "District                float64\n",
      "Ward                    float64\n",
      "Community Area          float64\n",
      "FBI Code                object\n",
      "X Coordinate            float64\n",
      "Y Coordinate            float64\n",
      "Year                    int64\n",
      "Updated On              object\n",
      "Latitude                float64\n",
      "Longitude               float64\n",
      "Location                object\n",
      "dtypes: bool(2), float64(7), int64(3), object(10)\n",
      "memory usage: 1.0+ GB\n"
     ]
    },
    {
     "data": {
      "text/plain": [
       "(6491263, 22)"
      ]
     },
     "execution_count": 34,
     "metadata": {},
     "output_type": "execute_result"
    }
   ],
   "source": [
    "# Dataset infomation to check the type of features\n",
    "\n",
    "chicagoCrimeData.info()\n",
    "chicagoCrimeData.shape"
   ]
  },
  {
   "cell_type": "code",
   "execution_count": 36,
   "metadata": {},
   "outputs": [],
   "source": [
    "# importing the Datetime class for date conversion\n",
    "from datetime import datetime\n",
    "\n",
    "# Changing \"DATE\" column with the date format\n",
    "chicagoCrimeData[\"Date\"] = pd.to_datetime(chicagoCrimeData['Date'], format='%m/%d/%Y %I:%M:%S %p')"
   ]
  },
  {
   "cell_type": "code",
   "execution_count": 37,
   "metadata": {},
   "outputs": [],
   "source": [
    "# DateTime feature extraction\n",
    "\n",
    "chicagoCrimeData[\"Day\"] = chicagoCrimeData[\"Date\"].dt.day\n",
    "chicagoCrimeData[\"Month\"] = chicagoCrimeData[\"Date\"].dt.month\n",
    "chicagoCrimeData[\"Year\"] = chicagoCrimeData[\"Date\"].dt.year\n",
    "chicagoCrimeData[\"Hour\"] = chicagoCrimeData[\"Date\"].dt.hour\n",
    "chicagoCrimeData[\"Minute\"] = chicagoCrimeData[\"Date\"].dt.minute\n",
    "chicagoCrimeData[\"Day of Week\"] = chicagoCrimeData[\"Date\"].dt.dayofweek"
   ]
  },
  {
   "cell_type": "code",
   "execution_count": 38,
   "metadata": {},
   "outputs": [
    {
     "data": {
      "image/png": "[encoded data removed]",
      "text/plain": [
       "<Figure size 432x288 with 1 Axes>"
      ]
     },
     "metadata": {
      "needs_background": "light"
     },
     "output_type": "display_data"
    }
   ],
   "source": [
    "# Checking for Location outliers\n",
    "\n",
    "\n",
    "import matplotlib.pyplot as plt\n",
    "\n",
    "plt.scatter(x= chicagoCrimeData[\"Longitude\"], y = chicagoCrimeData[\"Latitude\"])\n",
    "\n",
    "plt.show();"
   ]
  },
  {
   "cell_type": "code",
   "execution_count": 39,
   "metadata": {},
   "outputs": [
    {
     "data": {
      "text/plain": [
       "(6491154, 27)"
      ]
     },
     "execution_count": 39,
     "metadata": {},
     "output_type": "execute_result"
    }
   ],
   "source": [
    "# Removing location outliers from the data \n",
    "    \n",
    "chicagoCrimeData =  chicagoCrimeData.loc[(chicagoCrimeData['X Coordinate'] != 0) & (chicagoCrimeData['Y Coordinate'] != 0)]\n",
    "chicagoCrimeData.shape"
   ]
  },
  {
   "cell_type": "code",
   "execution_count": 40,
   "metadata": {},
   "outputs": [
    {
     "data": {
      "text/html": [
       "<div>\n",
       "<style scoped>\n",
       "    .dataframe tbody tr th:only-of-type {\n",
       "        vertical-align: middle;\n",
       "    }\n",
       "\n",
       "    .dataframe tbody tr th {\n",
       "        vertical-align: top;\n",
       "    }\n",
       "\n",
       "    .dataframe thead th {\n",
       "        text-align: right;\n",
       "    }\n",
       "</style>\n",
       "<table border=\"1\" class=\"dataframe\">\n",
       "  <thead>\n",
       "    <tr style=\"text-align: right;\">\n",
       "      <th></th>\n",
       "      <th>count</th>\n",
       "      <th>unique</th>\n",
       "      <th>top</th>\n",
       "      <th>freq</th>\n",
       "      <th>first</th>\n",
       "      <th>last</th>\n",
       "    </tr>\n",
       "  </thead>\n",
       "  <tbody>\n",
       "    <tr>\n",
       "      <th>Arrest</th>\n",
       "      <td>6491154</td>\n",
       "      <td>2</td>\n",
       "      <td>False</td>\n",
       "      <td>4732195</td>\n",
       "      <td>NaN</td>\n",
       "      <td>NaN</td>\n",
       "    </tr>\n",
       "    <tr>\n",
       "      <th>Domestic</th>\n",
       "      <td>6491154</td>\n",
       "      <td>2</td>\n",
       "      <td>False</td>\n",
       "      <td>5613158</td>\n",
       "      <td>NaN</td>\n",
       "      <td>NaN</td>\n",
       "    </tr>\n",
       "    <tr>\n",
       "      <th>FBI Code</th>\n",
       "      <td>6491154</td>\n",
       "      <td>26</td>\n",
       "      <td>06</td>\n",
       "      <td>1375880</td>\n",
       "      <td>NaN</td>\n",
       "      <td>NaN</td>\n",
       "    </tr>\n",
       "    <tr>\n",
       "      <th>Primary Type</th>\n",
       "      <td>6491154</td>\n",
       "      <td>35</td>\n",
       "      <td>THEFT</td>\n",
       "      <td>1375880</td>\n",
       "      <td>NaN</td>\n",
       "      <td>NaN</td>\n",
       "    </tr>\n",
       "    <tr>\n",
       "      <th>Location Description</th>\n",
       "      <td>6491154</td>\n",
       "      <td>214</td>\n",
       "      <td>STREET</td>\n",
       "      <td>1663419</td>\n",
       "      <td>NaN</td>\n",
       "      <td>NaN</td>\n",
       "    </tr>\n",
       "    <tr>\n",
       "      <th>IUCR</th>\n",
       "      <td>6491154</td>\n",
       "      <td>400</td>\n",
       "      <td>0486</td>\n",
       "      <td>555172</td>\n",
       "      <td>NaN</td>\n",
       "      <td>NaN</td>\n",
       "    </tr>\n",
       "    <tr>\n",
       "      <th>Description</th>\n",
       "      <td>6491154</td>\n",
       "      <td>526</td>\n",
       "      <td>SIMPLE</td>\n",
       "      <td>715278</td>\n",
       "      <td>NaN</td>\n",
       "      <td>NaN</td>\n",
       "    </tr>\n",
       "    <tr>\n",
       "      <th>Updated On</th>\n",
       "      <td>6491154</td>\n",
       "      <td>2682</td>\n",
       "      <td>02/10/2018 03:50:01 PM</td>\n",
       "      <td>2759253</td>\n",
       "      <td>NaN</td>\n",
       "      <td>NaN</td>\n",
       "    </tr>\n",
       "    <tr>\n",
       "      <th>Block</th>\n",
       "      <td>6491154</td>\n",
       "      <td>36000</td>\n",
       "      <td>100XX W OHARE ST</td>\n",
       "      <td>13096</td>\n",
       "      <td>NaN</td>\n",
       "      <td>NaN</td>\n",
       "    </tr>\n",
       "    <tr>\n",
       "      <th>Location</th>\n",
       "      <td>6491154</td>\n",
       "      <td>654595</td>\n",
       "      <td>(41.976290414, -87.905227221)</td>\n",
       "      <td>13083</td>\n",
       "      <td>NaN</td>\n",
       "      <td>NaN</td>\n",
       "    </tr>\n",
       "    <tr>\n",
       "      <th>Date</th>\n",
       "      <td>6491154</td>\n",
       "      <td>2641963</td>\n",
       "      <td>2007-01-01 00:01:00</td>\n",
       "      <td>172</td>\n",
       "      <td>2001-01-01 00:00:00</td>\n",
       "      <td>2020-08-07 23:43:00</td>\n",
       "    </tr>\n",
       "    <tr>\n",
       "      <th>Case Number</th>\n",
       "      <td>6491154</td>\n",
       "      <td>6490720</td>\n",
       "      <td>HJ590004</td>\n",
       "      <td>6</td>\n",
       "      <td>NaN</td>\n",
       "      <td>NaN</td>\n",
       "    </tr>\n",
       "  </tbody>\n",
       "</table>\n",
       "</div>"
      ],
      "text/plain": [
       "                        count   unique                            top  \\\n",
       "Arrest                6491154        2                          False   \n",
       "Domestic              6491154        2                          False   \n",
       "FBI Code              6491154       26                             06   \n",
       "Primary Type          6491154       35                          THEFT   \n",
       "Location Description  6491154      214                         STREET   \n",
       "IUCR                  6491154      400                           0486   \n",
       "Description           6491154      526                         SIMPLE   \n",
       "Updated On            6491154     2682         02/10/2018 03:50:01 PM   \n",
       "Block                 6491154    36000               100XX W OHARE ST   \n",
       "Location              6491154   654595  (41.976290414, -87.905227221)   \n",
       "Date                  6491154  2641963            2007-01-01 00:01:00   \n",
       "Case Number           6491154  6490720                       HJ590004   \n",
       "\n",
       "                         freq                first                 last  \n",
       "Arrest                4732195                  NaN                  NaN  \n",
       "Domestic              5613158                  NaN                  NaN  \n",
       "FBI Code              1375880                  NaN                  NaN  \n",
       "Primary Type          1375880                  NaN                  NaN  \n",
       "Location Description  1663419                  NaN                  NaN  \n",
       "IUCR                   555172                  NaN                  NaN  \n",
       "Description            715278                  NaN                  NaN  \n",
       "Updated On            2759253                  NaN                  NaN  \n",
       "Block                   13096                  NaN                  NaN  \n",
       "Location                13083                  NaN                  NaN  \n",
       "Date                      172  2001-01-01 00:00:00  2020-08-07 23:43:00  \n",
       "Case Number                 6                  NaN                  NaN  "
      ]
     },
     "execution_count": 40,
     "metadata": {},
     "output_type": "execute_result"
    }
   ],
   "source": [
    "# Check the categorical features\n",
    "\n",
    "chicagoCrimeData.describe(exclude='number').T.sort_values(by='unique')"
   ]
  },
  {
   "cell_type": "code",
   "execution_count": 41,
   "metadata": {},
   "outputs": [],
   "source": [
    "# Converting categorical features of True or False into 0 and 1.\n",
    "\n",
    "chicagoCrimeData = chicagoCrimeData.replace({False: 0, True: 1})"
   ]
  },
  {
   "cell_type": "code",
   "execution_count": 42,
   "metadata": {},
   "outputs": [],
   "source": [
    "# Drop unnecessary columns\n",
    "\n",
    "chicagoCrimeData = chicagoCrimeData.drop(['Updated On', 'Case Number', 'Location Description', 'Location'],axis=1)"
   ]
  },
  {
   "cell_type": "code",
   "execution_count": 43,
   "metadata": {},
   "outputs": [],
   "source": [
    "# Extracting entries for the last decade i.e. from 2010 to 2020\n",
    "\n",
    "chicagoCrimeData = chicagoCrimeData.loc[ chicagoCrimeData['Year'] > 2009 ]"
   ]
  },
  {
   "cell_type": "code",
   "execution_count": 44,
   "metadata": {},
   "outputs": [],
   "source": [
    "# Removing the half entries of 2020 \n",
    "# Preserving these entries of 2020 into new dataframe for further use\n",
    "\n",
    "chicagoCrimeData2020 = chicagoCrimeData.loc[ chicagoCrimeData['Year'] > 2019]\n",
    "\n",
    "chicagoCrimeData = chicagoCrimeData.loc[ chicagoCrimeData['Year'] < 2020 ]"
   ]
  },
  {
   "cell_type": "code",
   "execution_count": 45,
   "metadata": {},
   "outputs": [
    {
     "data": {
      "text/plain": [
       "(122360, 23)"
      ]
     },
     "execution_count": 45,
     "metadata": {},
     "output_type": "execute_result"
    }
   ],
   "source": [
    "chicagoCrimeData2020.shape"
   ]
  },
  {
   "cell_type": "code",
   "execution_count": 46,
   "metadata": {},
   "outputs": [],
   "source": [
    "# Store the pre-processed data into CSV for further process\n",
    "\n",
    "chicagoCrimeData.to_csv (r'C:\\Users\\bhayy\\OneDrive\\Desktop\\Final Year Project\\New folder\\crimeData.csv')\n",
    "chicagoCrimeData2020.to_csv (r'C:\\Users\\bhayy\\OneDrive\\Desktop\\Final Year Project\\New folder\\crimeData2020.csv')"
   ]
  }
 ],
 "metadata": {
  "kernelspec": {
   "display_name": "Python 3",
   "language": "python",
   "name": "python3"
  },
  "language_info": {
   "codemirror_mode": {
    "name": "ipython",
    "version": 3
   },
   "file_extension": ".py",
   "mimetype": "text/x-python",
   "name": "python",
   "nbconvert_exporter": "python",
   "pygments_lexer": "ipython3",
   "version": "3.7.3"
  }
 },
 "nbformat": 4,
 "nbformat_minor": 2
}
