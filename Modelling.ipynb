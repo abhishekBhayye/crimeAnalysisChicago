{
 "cells": [
  {
   "cell_type": "code",
   "execution_count": 1,
   "metadata": {},
   "outputs": [],
   "source": [
    "# Basic imports for Numpy and pandas\n",
    "\n",
    "import numpy as np\n",
    "import pandas as pd\n",
    "\n",
    "# Importing the data for District 11 which is a district with top Crime count\n",
    "\n",
    "crimeDataDistrict11 = pd.read_csv(\"../Data/crimeDataDistrict11.csv\", low_memory=False)"
   ]
  },
  {
   "cell_type": "code",
   "execution_count": 2,
   "metadata": {},
   "outputs": [
    {
     "data": {
      "text/html": [
       "<div>\n",
       "<style scoped>\n",
       "    .dataframe tbody tr th:only-of-type {\n",
       "        vertical-align: middle;\n",
       "    }\n",
       "\n",
       "    .dataframe tbody tr th {\n",
       "        vertical-align: top;\n",
       "    }\n",
       "\n",
       "    .dataframe thead th {\n",
       "        text-align: right;\n",
       "    }\n",
       "</style>\n",
       "<table border=\"1\" class=\"dataframe\">\n",
       "  <thead>\n",
       "    <tr style=\"text-align: right;\">\n",
       "      <th></th>\n",
       "      <th>Unnamed: 0</th>\n",
       "      <th>Primary Type</th>\n",
       "      <th>Domestic</th>\n",
       "      <th>District</th>\n",
       "      <th>Year</th>\n",
       "      <th>Latitude</th>\n",
       "      <th>Longitude</th>\n",
       "      <th>Day</th>\n",
       "      <th>Month</th>\n",
       "      <th>Hour</th>\n",
       "      <th>Minute</th>\n",
       "    </tr>\n",
       "  </thead>\n",
       "  <tbody>\n",
       "    <tr>\n",
       "      <th>0</th>\n",
       "      <td>21</td>\n",
       "      <td>BATTERY</td>\n",
       "      <td>0</td>\n",
       "      <td>11.0</td>\n",
       "      <td>2019</td>\n",
       "      <td>41.884925</td>\n",
       "      <td>-87.711121</td>\n",
       "      <td>21</td>\n",
       "      <td>4</td>\n",
       "      <td>6</td>\n",
       "      <td>0</td>\n",
       "    </tr>\n",
       "    <tr>\n",
       "      <th>1</th>\n",
       "      <td>23</td>\n",
       "      <td>BATTERY</td>\n",
       "      <td>1</td>\n",
       "      <td>11.0</td>\n",
       "      <td>2019</td>\n",
       "      <td>41.872643</td>\n",
       "      <td>-87.716307</td>\n",
       "      <td>23</td>\n",
       "      <td>4</td>\n",
       "      <td>16</td>\n",
       "      <td>16</td>\n",
       "    </tr>\n",
       "    <tr>\n",
       "      <th>2</th>\n",
       "      <td>70</td>\n",
       "      <td>BATTERY</td>\n",
       "      <td>1</td>\n",
       "      <td>11.0</td>\n",
       "      <td>2019</td>\n",
       "      <td>41.901679</td>\n",
       "      <td>-87.721398</td>\n",
       "      <td>23</td>\n",
       "      <td>5</td>\n",
       "      <td>12</td>\n",
       "      <td>0</td>\n",
       "    </tr>\n",
       "    <tr>\n",
       "      <th>3</th>\n",
       "      <td>118</td>\n",
       "      <td>BATTERY</td>\n",
       "      <td>0</td>\n",
       "      <td>11.0</td>\n",
       "      <td>2019</td>\n",
       "      <td>41.879293</td>\n",
       "      <td>-87.741485</td>\n",
       "      <td>14</td>\n",
       "      <td>5</td>\n",
       "      <td>0</td>\n",
       "      <td>56</td>\n",
       "    </tr>\n",
       "    <tr>\n",
       "      <th>4</th>\n",
       "      <td>137</td>\n",
       "      <td>NARCOTICS</td>\n",
       "      <td>0</td>\n",
       "      <td>11.0</td>\n",
       "      <td>2019</td>\n",
       "      <td>41.899168</td>\n",
       "      <td>-87.709164</td>\n",
       "      <td>27</td>\n",
       "      <td>5</td>\n",
       "      <td>0</td>\n",
       "      <td>58</td>\n",
       "    </tr>\n",
       "  </tbody>\n",
       "</table>\n",
       "</div>"
      ],
      "text/plain": [
       "   Unnamed: 0 Primary Type  Domestic  District  Year   Latitude  Longitude  \\\n",
       "0          21      BATTERY         0      11.0  2019  41.884925 -87.711121   \n",
       "1          23      BATTERY         1      11.0  2019  41.872643 -87.716307   \n",
       "2          70      BATTERY         1      11.0  2019  41.901679 -87.721398   \n",
       "3         118      BATTERY         0      11.0  2019  41.879293 -87.741485   \n",
       "4         137    NARCOTICS         0      11.0  2019  41.899168 -87.709164   \n",
       "\n",
       "   Day  Month  Hour  Minute  \n",
       "0   21      4     6       0  \n",
       "1   23      4    16      16  \n",
       "2   23      5    12       0  \n",
       "3   14      5     0      56  \n",
       "4   27      5     0      58  "
      ]
     },
     "execution_count": 2,
     "metadata": {},
     "output_type": "execute_result"
    }
   ],
   "source": [
    "crimeDataDistrict11.head()"
   ]
  },
  {
   "cell_type": "code",
   "execution_count": 3,
   "metadata": {},
   "outputs": [
    {
     "name": "stdout",
     "output_type": "stream",
     "text": [
      "NARCOTICS              51035\n",
      "BATTERY                39179\n",
      "THEFT                  23074\n",
      "CRIMINAL DAMAGE        16264\n",
      "ASSAULT                12725\n",
      "OTHER OFFENSE          10086\n",
      "ROBBERY                 9105\n",
      "MOTOR VEHICLE THEFT     7611\n",
      "BURGLARY                6292\n",
      "DECEPTIVE PRACTICE      5730\n",
      "Name: Primary Type, dtype: int64\n"
     ]
    }
   ],
   "source": [
    "# Checking the crime count values\n",
    "\n",
    "print(crimeDataDistrict11['Primary Type'].value_counts())"
   ]
  },
  {
   "cell_type": "code",
   "execution_count": 4,
   "metadata": {},
   "outputs": [],
   "source": [
    "# Using label encoder for Primary type column\n",
    "\n",
    "from sklearn.preprocessing import LabelEncoder\n",
    "\n",
    "labelencoder_X = LabelEncoder()\n",
    "\n",
    "crimeDataDistrict11['PrimaryTypeCat'] =  labelencoder_X.fit_transform(crimeDataDistrict11['Primary Type'])"
   ]
  },
  {
   "cell_type": "code",
   "execution_count": 5,
   "metadata": {},
   "outputs": [
    {
     "data": {
      "text/html": [
       "<div>\n",
       "<style scoped>\n",
       "    .dataframe tbody tr th:only-of-type {\n",
       "        vertical-align: middle;\n",
       "    }\n",
       "\n",
       "    .dataframe tbody tr th {\n",
       "        vertical-align: top;\n",
       "    }\n",
       "\n",
       "    .dataframe thead th {\n",
       "        text-align: right;\n",
       "    }\n",
       "</style>\n",
       "<table border=\"1\" class=\"dataframe\">\n",
       "  <thead>\n",
       "    <tr style=\"text-align: right;\">\n",
       "      <th></th>\n",
       "      <th>Unnamed: 0</th>\n",
       "      <th>Primary Type</th>\n",
       "      <th>Domestic</th>\n",
       "      <th>District</th>\n",
       "      <th>Year</th>\n",
       "      <th>Latitude</th>\n",
       "      <th>Longitude</th>\n",
       "      <th>Day</th>\n",
       "      <th>Month</th>\n",
       "      <th>Hour</th>\n",
       "      <th>Minute</th>\n",
       "      <th>PrimaryTypeCat</th>\n",
       "    </tr>\n",
       "  </thead>\n",
       "  <tbody>\n",
       "    <tr>\n",
       "      <th>0</th>\n",
       "      <td>21</td>\n",
       "      <td>BATTERY</td>\n",
       "      <td>0</td>\n",
       "      <td>11.0</td>\n",
       "      <td>2019</td>\n",
       "      <td>41.884925</td>\n",
       "      <td>-87.711121</td>\n",
       "      <td>21</td>\n",
       "      <td>4</td>\n",
       "      <td>6</td>\n",
       "      <td>0</td>\n",
       "      <td>1</td>\n",
       "    </tr>\n",
       "    <tr>\n",
       "      <th>1</th>\n",
       "      <td>23</td>\n",
       "      <td>BATTERY</td>\n",
       "      <td>1</td>\n",
       "      <td>11.0</td>\n",
       "      <td>2019</td>\n",
       "      <td>41.872643</td>\n",
       "      <td>-87.716307</td>\n",
       "      <td>23</td>\n",
       "      <td>4</td>\n",
       "      <td>16</td>\n",
       "      <td>16</td>\n",
       "      <td>1</td>\n",
       "    </tr>\n",
       "    <tr>\n",
       "      <th>2</th>\n",
       "      <td>70</td>\n",
       "      <td>BATTERY</td>\n",
       "      <td>1</td>\n",
       "      <td>11.0</td>\n",
       "      <td>2019</td>\n",
       "      <td>41.901679</td>\n",
       "      <td>-87.721398</td>\n",
       "      <td>23</td>\n",
       "      <td>5</td>\n",
       "      <td>12</td>\n",
       "      <td>0</td>\n",
       "      <td>1</td>\n",
       "    </tr>\n",
       "    <tr>\n",
       "      <th>3</th>\n",
       "      <td>118</td>\n",
       "      <td>BATTERY</td>\n",
       "      <td>0</td>\n",
       "      <td>11.0</td>\n",
       "      <td>2019</td>\n",
       "      <td>41.879293</td>\n",
       "      <td>-87.741485</td>\n",
       "      <td>14</td>\n",
       "      <td>5</td>\n",
       "      <td>0</td>\n",
       "      <td>56</td>\n",
       "      <td>1</td>\n",
       "    </tr>\n",
       "    <tr>\n",
       "      <th>4</th>\n",
       "      <td>137</td>\n",
       "      <td>NARCOTICS</td>\n",
       "      <td>0</td>\n",
       "      <td>11.0</td>\n",
       "      <td>2019</td>\n",
       "      <td>41.899168</td>\n",
       "      <td>-87.709164</td>\n",
       "      <td>27</td>\n",
       "      <td>5</td>\n",
       "      <td>0</td>\n",
       "      <td>58</td>\n",
       "      <td>6</td>\n",
       "    </tr>\n",
       "  </tbody>\n",
       "</table>\n",
       "</div>"
      ],
      "text/plain": [
       "   Unnamed: 0 Primary Type  Domestic  District  Year   Latitude  Longitude  \\\n",
       "0          21      BATTERY         0      11.0  2019  41.884925 -87.711121   \n",
       "1          23      BATTERY         1      11.0  2019  41.872643 -87.716307   \n",
       "2          70      BATTERY         1      11.0  2019  41.901679 -87.721398   \n",
       "3         118      BATTERY         0      11.0  2019  41.879293 -87.741485   \n",
       "4         137    NARCOTICS         0      11.0  2019  41.899168 -87.709164   \n",
       "\n",
       "   Day  Month  Hour  Minute  PrimaryTypeCat  \n",
       "0   21      4     6       0               1  \n",
       "1   23      4    16      16               1  \n",
       "2   23      5    12       0               1  \n",
       "3   14      5     0      56               1  \n",
       "4   27      5     0      58               6  "
      ]
     },
     "execution_count": 5,
     "metadata": {},
     "output_type": "execute_result"
    }
   ],
   "source": [
    "# Label encoding results\n",
    "\n",
    "crimeDataDistrict11.head()"
   ]
  },
  {
   "cell_type": "code",
   "execution_count": 40,
   "metadata": {},
   "outputs": [],
   "source": [
    "# Preparing Feature and Target varible for the Model\n",
    "\n",
    "X = crimeDataDistrict11.drop(['Unnamed: 0','Primary Type','District','Domestic','PrimaryTypeCat'], axis=1)\n",
    "y = crimeDataDistrict11.iloc[:,-1]"
   ]
  },
  {
   "cell_type": "code",
   "execution_count": 7,
   "metadata": {},
   "outputs": [],
   "source": [
    "# from sklearn.preprocessing import StandardScaler\n",
    "# from imblearn.over_sampling import SMOTE\n",
    "# from sklearn.model_selection import train_test_split\n",
    "\n",
    "# smote = SMOTE()\n",
    "# X_train, X_test, y_train, y_test = train_test_split(X, y, test_size=0.2, random_state=0)\n",
    "\n",
    "# #oversampling to handle imbalanced data\n",
    "# Scaler=StandardScaler()\n",
    "# Scaler.fit(X_train)\n",
    "# X_train=Scaler.transform(X_train)\n",
    "# X_test=Scaler.transform(X_test)\n",
    "# X_train_smote, y_train_smote = smote.fit_sample(X_train,y_train)"
   ]
  },
  {
   "cell_type": "code",
   "execution_count": 41,
   "metadata": {},
   "outputs": [],
   "source": [
    "# Separating Training and Testing set in 75% and 25% ratio\n",
    "\n",
    "from sklearn.model_selection import train_test_split\n",
    "\n",
    "X_train, X_test, y_train, y_test = train_test_split(X, y, test_size=0.25, random_state=123)"
   ]
  },
  {
   "cell_type": "code",
   "execution_count": 8,
   "metadata": {},
   "outputs": [
    {
     "data": {
      "text/plain": [
       "XGBClassifier(base_score=0.5, booster='gbtree', colsample_bylevel=1,\n",
       "       colsample_bynode=1, colsample_bytree=1, gamma=0, gpu_id=-1,\n",
       "       importance_type='gain', interaction_constraints='',\n",
       "       learning_rate=0.300000012, max_delta_step=0, max_depth=6,\n",
       "       min_child_weight=1, missing=nan, monotone_constraints='()',\n",
       "       n_estimators=100, n_jobs=0, num_parallel_tree=1,\n",
       "       objective='multi:softprob', random_state=0, reg_alpha=0,\n",
       "       reg_lambda=1, scale_pos_weight=None, subsample=1,\n",
       "       tree_method='exact', validate_parameters=1, verbosity=None)"
      ]
     },
     "execution_count": 8,
     "metadata": {},
     "output_type": "execute_result"
    }
   ],
   "source": [
    "# Implementing XGBoost\n",
    "\n",
    "from numpy import loadtxt\n",
    "from xgboost import XGBClassifier\n",
    "\n",
    "# fit model no training data\n",
    "model = XGBClassifier()\n",
    "model.fit(X_train, y_train)"
   ]
  },
  {
   "cell_type": "code",
   "execution_count": 9,
   "metadata": {},
   "outputs": [
    {
     "name": "stderr",
     "output_type": "stream",
     "text": [
      "D:\\anaconda\\lib\\site-packages\\sklearn\\preprocessing\\label.py:151: DeprecationWarning: The truth value of an empty array is ambiguous. Returning False, but in future this will result in an error. Use `array.size > 0` to check that an array is not empty.\n",
      "  if diff:\n"
     ]
    }
   ],
   "source": [
    "# make predictions for test data\n",
    "\n",
    "y_pred_XGBoost = model.predict(X_test)\n",
    "predictions = [round(value) for value in y_pred_XGBoost]"
   ]
  },
  {
   "cell_type": "code",
   "execution_count": 11,
   "metadata": {},
   "outputs": [
    {
     "name": "stdout",
     "output_type": "stream",
     "text": [
      "Accuracy: 0.41542980828695114\n",
      "Precision Score :  0.3140184781354213\n",
      "Recall Score :  0.22497763894785106\n"
     ]
    }
   ],
   "source": [
    "# Evaluating the Accuracy, Precision and Recall score for the model\n",
    "from sklearn import metrics\n",
    "\n",
    "print(\"Accuracy:\", metrics.accuracy_score(y_test, predictions))\n",
    "print(\"Precision Score : \",metrics.precision_score(y_test, predictions, average='macro'))\n",
    "print(\"Recall Score : \",metrics.recall_score(y_test, predictions, average='macro'))"
   ]
  },
  {
   "cell_type": "code",
   "execution_count": 30,
   "metadata": {},
   "outputs": [
    {
     "data": {
      "text/plain": [
       "GaussianNB(priors=None)"
      ]
     },
     "execution_count": 30,
     "metadata": {},
     "output_type": "execute_result"
    }
   ],
   "source": [
    "# Naive Baiyes\n",
    "\n",
    "#Import Gaussian Naive Bayes model\n",
    "from sklearn.naive_bayes import GaussianNB\n",
    "\n",
    "#Create a Gaussian Classifier\n",
    "gnb = GaussianNB()\n",
    "\n",
    "#Train the model using the training sets\n",
    "gnb.fit(X_train, y_train)"
   ]
  },
  {
   "cell_type": "code",
   "execution_count": 56,
   "metadata": {},
   "outputs": [
    {
     "name": "stdout",
     "output_type": "stream",
     "text": [
      "Accuracy: 0.26146302676914923\n",
      "Precision Score :  0.12366037699569861\n",
      "Recall Score :  0.12986563405086965\n"
     ]
    }
   ],
   "source": [
    "# make predictions for test data\n",
    "y_pred_NaiveBayes = gnb.predict(X_test)\n",
    "\n",
    "# Evaluating the Accuracy, Precision and Recall score for the model\n",
    "print(\"Accuracy:\", accuracy_score(y_test, y_pred_NaiveBayes))\n",
    "print(\"Precision Score : \",metrics.precision_score(y_test, y_pred_NaiveBayes, average='macro'))\n",
    "print(\"Recall Score : \",metrics.recall_score(y_test, y_pred_NaiveBayes, average='macro'))"
   ]
  },
  {
   "cell_type": "code",
   "execution_count": null,
   "metadata": {},
   "outputs": [],
   "source": [
    "#Import svm model\n",
    "from sklearn import svm\n",
    "\n",
    "#Create a svm Classifier\n",
    "clf = svm.SVC(kernel='linear') # Linear Kernel\n",
    "\n",
    "#Train the model using the training sets\n",
    "clf.fit(X_train, y_train)"
   ]
  },
  {
   "cell_type": "code",
   "execution_count": 50,
   "metadata": {},
   "outputs": [
    {
     "name": "stdout",
     "output_type": "stream",
     "text": [
      "Accuracy: 0.3918411520452337\n",
      "Precision Score :  0.2593016918990439\n",
      "Recall Score :  0.21141386126289724\n"
     ]
    }
   ],
   "source": [
    "# make predictions for test data\n",
    "y_pred_SVM = clf.predict(X_test)\n",
    "\n",
    "# Evaluating the Accuracy, Precision and Recall score for the model\n",
    "print(\"Accuracy:\", accuracy_score(y_test, y_pred_SVM))\n",
    "print(\"Precision Score : \",metrics.precision_score(y_test, y_pred_SVM, average='macro'))\n",
    "print(\"Recall Score : \",metrics.recall_score(y_test, y_pred_SVM, average='macro'))"
   ]
  },
  {
   "cell_type": "code",
   "execution_count": 42,
   "metadata": {},
   "outputs": [
    {
     "data": {
      "text/plain": [
       "RandomForestClassifier(bootstrap=True, class_weight=None, criterion='gini',\n",
       "            max_depth=None, max_features='auto', max_leaf_nodes=None,\n",
       "            min_impurity_decrease=0.0, min_impurity_split=None,\n",
       "            min_samples_leaf=1, min_samples_split=2,\n",
       "            min_weight_fraction_leaf=0.0, n_estimators=100, n_jobs=1,\n",
       "            oob_score=False, random_state=None, verbose=0,\n",
       "            warm_start=False)"
      ]
     },
     "execution_count": 42,
     "metadata": {},
     "output_type": "execute_result"
    }
   ],
   "source": [
    "from sklearn.ensemble import RandomForestClassifier\n",
    "\n",
    "#Create a Gaussian Classifier\n",
    "rnClf=RandomForestClassifier(n_estimators=100)\n",
    "\n",
    "#Train the model using the training sets y_pred=clf.predict(X_test)\n",
    "rnClf.fit(X_train,y_train)"
   ]
  },
  {
   "cell_type": "code",
   "execution_count": 43,
   "metadata": {},
   "outputs": [
    {
     "name": "stdout",
     "output_type": "stream",
     "text": [
      "Accuracy: 0.39270253555967843\n",
      "Precision Score :  0.26605150306630254\n",
      "Recall Score :  0.21383196616366584\n"
     ]
    }
   ],
   "source": [
    "# make predictions for test data\n",
    "y_predRnclf=rnClf.predict(X_test)\n",
    "\n",
    "# Evaluating the Accuracy, Precision and Recall score for the model\n",
    "print(\"Accuracy:\", metrics.accuracy_score(y_test, y_predRnclf))\n",
    "print(\"Precision Score : \",metrics.precision_score(y_test, y_predRnclf, average='macro'))\n",
    "print(\"Recall Score : \",metrics.recall_score(y_test, y_predRnclf, average='macro'))"
   ]
  },
  {
   "cell_type": "code",
   "execution_count": 33,
   "metadata": {},
   "outputs": [
    {
     "name": "stdout",
     "output_type": "stream",
     "text": [
      "Accuracy: 0.31184291898577615\n"
     ]
    }
   ],
   "source": [
    "# import the class\n",
    "from sklearn.linear_model import LogisticRegression\n",
    "\n",
    "# instantiate the model (using the default parameters)\n",
    "logreg = LogisticRegression()\n",
    "\n",
    "# fit the model with data\n",
    "logreg.fit(X_train,y_train)"
   ]
  },
  {
   "cell_type": "code",
   "execution_count": 55,
   "metadata": {},
   "outputs": [
    {
     "name": "stdout",
     "output_type": "stream",
     "text": [
      "Accuracy: 0.31184291898577615\n",
      "Precision Score :  0.08396573364335513\n",
      "Recall Score :  0.12143348810975985\n"
     ]
    },
    {
     "name": "stderr",
     "output_type": "stream",
     "text": [
      "D:\\anaconda\\lib\\site-packages\\sklearn\\metrics\\classification.py:1135: UndefinedMetricWarning: Precision is ill-defined and being set to 0.0 in labels with no predicted samples.\n",
      "  'precision', 'predicted', average, warn_for)\n"
     ]
    }
   ],
   "source": [
    "# make predictions for test data\n",
    "y_predLogReg=logreg.predict(X_test)\n",
    "\n",
    "# Evaluating the Accuracy, Precision and Recall score for the model\n",
    "print(\"Accuracy:\", accuracy_score(y_test, y_predLogReg))\n",
    "print(\"Precision Score : \",metrics.precision_score(y_test, y_predLogReg, average='macro'))\n",
    "print(\"Recall Score : \",metrics.recall_score(y_test, y_predLogReg, average='macro'))"
   ]
  },
  {
   "cell_type": "code",
   "execution_count": 20,
   "metadata": {},
   "outputs": [
    {
     "name": "stderr",
     "output_type": "stream",
     "text": [
      "D:\\anaconda\\lib\\site-packages\\sklearn\\preprocessing\\label.py:151: DeprecationWarning: The truth value of an empty array is ambiguous. Returning False, but in future this will result in an error. Use `array.size > 0` to check that an array is not empty.\n",
      "  if diff:\n",
      "D:\\anaconda\\lib\\site-packages\\sklearn\\preprocessing\\label.py:151: DeprecationWarning: The truth value of an empty array is ambiguous. Returning False, but in future this will result in an error. Use `array.size > 0` to check that an array is not empty.\n",
      "  if diff:\n"
     ]
    }
   ],
   "source": [
    "# Inverse transform to receive the Encoded values again for comparison\n",
    "\n",
    "y_test = labelencoder_X.inverse_transform(y_test)\n",
    "predictions = labelencoder_X.inverse_transform(predictions)"
   ]
  },
  {
   "cell_type": "code",
   "execution_count": 22,
   "metadata": {},
   "outputs": [
    {
     "data": {
      "text/plain": [
       "array(['THEFT', 'BATTERY', 'BATTERY', ..., 'THEFT', 'BATTERY', 'BATTERY'],\n",
       "      dtype=object)"
      ]
     },
     "execution_count": 22,
     "metadata": {},
     "output_type": "execute_result"
    }
   ],
   "source": [
    "predictions"
   ]
  },
  {
   "cell_type": "code",
   "execution_count": 27,
   "metadata": {},
   "outputs": [
    {
     "data": {
      "text/plain": [
       "<matplotlib.axes._subplots.AxesSubplot at 0x211687e2be0>"
      ]
     },
     "execution_count": 27,
     "metadata": {},
     "output_type": "execute_result"
    },
    {
     "data": {
      "image/png": "[encoded data removed]",
      "text/plain": [
       "<Figure size 1080x504 with 2 Axes>"
      ]
     },
     "metadata": {},
     "output_type": "display_data"
    }
   ],
   "source": [
    "# Confusion Matrix for the XGBoost results\n",
    "\n",
    "import seaborn as sn\n",
    "import matplotlib.pyplot as plt\n",
    "\n",
    "data = metrics.confusion_matrix(y_test, predictions)\n",
    "df_cm = pd.DataFrame(data, columns=np.unique(y_test), index = np.unique(y_test))\n",
    "df_cm.index.name = 'Actual'\n",
    "df_cm.columns.name = 'Predicted'\n",
    "plt.figure(figsize = (15,7))\n",
    "sn.set(font_scale=1.4)#for label size\n",
    "sn.heatmap(df_cm, cmap=\"Blues\", annot=True,annot_kws={\"size\": 16})# font size"
   ]
  },
  {
   "cell_type": "code",
   "execution_count": 28,
   "metadata": {},
   "outputs": [],
   "source": [
    "# Loading the January month data frame for Analysis\n",
    "\n",
    "janMonthData = pd.read_csv(\"../Data/janMonthData.csv\", low_memory=False)"
   ]
  },
  {
   "cell_type": "code",
   "execution_count": 31,
   "metadata": {},
   "outputs": [],
   "source": [
    "# Encoding the values for Model\n",
    "\n",
    "janMonthData['PrimaryTypeCat'] =  labelencoder_X.fit_transform(janMonthData['Primary Type'])"
   ]
  },
  {
   "cell_type": "code",
   "execution_count": 32,
   "metadata": {},
   "outputs": [
    {
     "data": {
      "text/html": [
       "<div>\n",
       "<style scoped>\n",
       "    .dataframe tbody tr th:only-of-type {\n",
       "        vertical-align: middle;\n",
       "    }\n",
       "\n",
       "    .dataframe tbody tr th {\n",
       "        vertical-align: top;\n",
       "    }\n",
       "\n",
       "    .dataframe thead th {\n",
       "        text-align: right;\n",
       "    }\n",
       "</style>\n",
       "<table border=\"1\" class=\"dataframe\">\n",
       "  <thead>\n",
       "    <tr style=\"text-align: right;\">\n",
       "      <th></th>\n",
       "      <th>Primary Type</th>\n",
       "      <th>District</th>\n",
       "      <th>Year</th>\n",
       "      <th>Latitude</th>\n",
       "      <th>Longitude</th>\n",
       "      <th>Day</th>\n",
       "      <th>Month</th>\n",
       "      <th>Hour</th>\n",
       "      <th>Minute</th>\n",
       "      <th>PrimaryTypeCat</th>\n",
       "    </tr>\n",
       "  </thead>\n",
       "  <tbody>\n",
       "    <tr>\n",
       "      <th>0</th>\n",
       "      <td>NARCOTICS</td>\n",
       "      <td>11</td>\n",
       "      <td>2020</td>\n",
       "      <td>41.882140</td>\n",
       "      <td>-87.711045</td>\n",
       "      <td>1</td>\n",
       "      <td>1</td>\n",
       "      <td>21</td>\n",
       "      <td>26</td>\n",
       "      <td>6</td>\n",
       "    </tr>\n",
       "    <tr>\n",
       "      <th>1</th>\n",
       "      <td>ASSAULT</td>\n",
       "      <td>11</td>\n",
       "      <td>2020</td>\n",
       "      <td>41.893695</td>\n",
       "      <td>-87.709420</td>\n",
       "      <td>1</td>\n",
       "      <td>1</td>\n",
       "      <td>20</td>\n",
       "      <td>45</td>\n",
       "      <td>0</td>\n",
       "    </tr>\n",
       "    <tr>\n",
       "      <th>2</th>\n",
       "      <td>NARCOTICS</td>\n",
       "      <td>11</td>\n",
       "      <td>2020</td>\n",
       "      <td>41.883271</td>\n",
       "      <td>-87.733413</td>\n",
       "      <td>1</td>\n",
       "      <td>1</td>\n",
       "      <td>0</td>\n",
       "      <td>54</td>\n",
       "      <td>6</td>\n",
       "    </tr>\n",
       "    <tr>\n",
       "      <th>3</th>\n",
       "      <td>THEFT</td>\n",
       "      <td>11</td>\n",
       "      <td>2020</td>\n",
       "      <td>41.866731</td>\n",
       "      <td>-87.730087</td>\n",
       "      <td>1</td>\n",
       "      <td>1</td>\n",
       "      <td>9</td>\n",
       "      <td>0</td>\n",
       "      <td>9</td>\n",
       "    </tr>\n",
       "    <tr>\n",
       "      <th>4</th>\n",
       "      <td>OTHER OFFENSE</td>\n",
       "      <td>11</td>\n",
       "      <td>2020</td>\n",
       "      <td>41.867128</td>\n",
       "      <td>-87.721147</td>\n",
       "      <td>1</td>\n",
       "      <td>1</td>\n",
       "      <td>2</td>\n",
       "      <td>30</td>\n",
       "      <td>7</td>\n",
       "    </tr>\n",
       "  </tbody>\n",
       "</table>\n",
       "</div>"
      ],
      "text/plain": [
       "    Primary Type  District  Year   Latitude  Longitude  Day  Month  Hour  \\\n",
       "0      NARCOTICS        11  2020  41.882140 -87.711045    1      1    21   \n",
       "1        ASSAULT        11  2020  41.893695 -87.709420    1      1    20   \n",
       "2      NARCOTICS        11  2020  41.883271 -87.733413    1      1     0   \n",
       "3          THEFT        11  2020  41.866731 -87.730087    1      1     9   \n",
       "4  OTHER OFFENSE        11  2020  41.867128 -87.721147    1      1     2   \n",
       "\n",
       "   Minute  PrimaryTypeCat  \n",
       "0      26               6  \n",
       "1      45               0  \n",
       "2      54               6  \n",
       "3       0               9  \n",
       "4      30               7  "
      ]
     },
     "execution_count": 32,
     "metadata": {},
     "output_type": "execute_result"
    }
   ],
   "source": [
    "janMonthData.head()"
   ]
  },
  {
   "cell_type": "code",
   "execution_count": 46,
   "metadata": {},
   "outputs": [],
   "source": [
    "# Preparing Feature and Target varible for the Model\n",
    "\n",
    "X_forRF = janMonthData.drop(['Primary Type','District','PrimaryTypeCat'], axis=1)\n",
    "y_forRF = janMonthData.iloc[:,-1]"
   ]
  },
  {
   "cell_type": "code",
   "execution_count": 50,
   "metadata": {},
   "outputs": [
    {
     "name": "stderr",
     "output_type": "stream",
     "text": [
      "D:\\anaconda\\lib\\site-packages\\sklearn\\preprocessing\\label.py:151: DeprecationWarning: The truth value of an empty array is ambiguous. Returning False, but in future this will result in an error. Use `array.size > 0` to check that an array is not empty.\n",
      "  if diff:\n"
     ]
    }
   ],
   "source": [
    "# make Predictions using XGBoost\n",
    "\n",
    "# make predictions for test data\n",
    "y_pXGBoost = model.predict(X_forRF)\n",
    "predictionsForJanData = [round(value) for value in y_pXGBoost]"
   ]
  },
  {
   "cell_type": "code",
   "execution_count": 52,
   "metadata": {},
   "outputs": [
    {
     "name": "stderr",
     "output_type": "stream",
     "text": [
      "D:\\anaconda\\lib\\site-packages\\sklearn\\preprocessing\\label.py:151: DeprecationWarning: The truth value of an empty array is ambiguous. Returning False, but in future this will result in an error. Use `array.size > 0` to check that an array is not empty.\n",
      "  if diff:\n"
     ]
    }
   ],
   "source": [
    "# USing Inverse transform to obtain the encoded values\n",
    "\n",
    "predictionsForJanData = labelencoder_X.inverse_transform(predictionsForJanData)"
   ]
  },
  {
   "cell_type": "code",
   "execution_count": 53,
   "metadata": {},
   "outputs": [
    {
     "data": {
      "text/plain": [
       "numpy.ndarray"
      ]
     },
     "execution_count": 53,
     "metadata": {},
     "output_type": "execute_result"
    }
   ],
   "source": [
    "type(predictionsForJanData)"
   ]
  },
  {
   "cell_type": "code",
   "execution_count": 54,
   "metadata": {},
   "outputs": [],
   "source": [
    "# Storing the predicted results in New column\n",
    "\n",
    "janMonthData['Predicted Result'] = predictionsForJanData "
   ]
  },
  {
   "cell_type": "code",
   "execution_count": 55,
   "metadata": {},
   "outputs": [
    {
     "data": {
      "text/html": [
       "<div>\n",
       "<style scoped>\n",
       "    .dataframe tbody tr th:only-of-type {\n",
       "        vertical-align: middle;\n",
       "    }\n",
       "\n",
       "    .dataframe tbody tr th {\n",
       "        vertical-align: top;\n",
       "    }\n",
       "\n",
       "    .dataframe thead th {\n",
       "        text-align: right;\n",
       "    }\n",
       "</style>\n",
       "<table border=\"1\" class=\"dataframe\">\n",
       "  <thead>\n",
       "    <tr style=\"text-align: right;\">\n",
       "      <th></th>\n",
       "      <th>Primary Type</th>\n",
       "      <th>District</th>\n",
       "      <th>Year</th>\n",
       "      <th>Latitude</th>\n",
       "      <th>Longitude</th>\n",
       "      <th>Day</th>\n",
       "      <th>Month</th>\n",
       "      <th>Hour</th>\n",
       "      <th>Minute</th>\n",
       "      <th>PrimaryTypeCat</th>\n",
       "      <th>Predicted Result</th>\n",
       "    </tr>\n",
       "  </thead>\n",
       "  <tbody>\n",
       "    <tr>\n",
       "      <th>0</th>\n",
       "      <td>NARCOTICS</td>\n",
       "      <td>11</td>\n",
       "      <td>2020</td>\n",
       "      <td>41.882140</td>\n",
       "      <td>-87.711045</td>\n",
       "      <td>1</td>\n",
       "      <td>1</td>\n",
       "      <td>21</td>\n",
       "      <td>26</td>\n",
       "      <td>6</td>\n",
       "      <td>NARCOTICS</td>\n",
       "    </tr>\n",
       "    <tr>\n",
       "      <th>1</th>\n",
       "      <td>ASSAULT</td>\n",
       "      <td>11</td>\n",
       "      <td>2020</td>\n",
       "      <td>41.893695</td>\n",
       "      <td>-87.709420</td>\n",
       "      <td>1</td>\n",
       "      <td>1</td>\n",
       "      <td>20</td>\n",
       "      <td>45</td>\n",
       "      <td>0</td>\n",
       "      <td>NARCOTICS</td>\n",
       "    </tr>\n",
       "    <tr>\n",
       "      <th>2</th>\n",
       "      <td>NARCOTICS</td>\n",
       "      <td>11</td>\n",
       "      <td>2020</td>\n",
       "      <td>41.883271</td>\n",
       "      <td>-87.733413</td>\n",
       "      <td>1</td>\n",
       "      <td>1</td>\n",
       "      <td>0</td>\n",
       "      <td>54</td>\n",
       "      <td>6</td>\n",
       "      <td>BATTERY</td>\n",
       "    </tr>\n",
       "    <tr>\n",
       "      <th>3</th>\n",
       "      <td>THEFT</td>\n",
       "      <td>11</td>\n",
       "      <td>2020</td>\n",
       "      <td>41.866731</td>\n",
       "      <td>-87.730087</td>\n",
       "      <td>1</td>\n",
       "      <td>1</td>\n",
       "      <td>9</td>\n",
       "      <td>0</td>\n",
       "      <td>9</td>\n",
       "      <td>DECEPTIVE PRACTICE</td>\n",
       "    </tr>\n",
       "    <tr>\n",
       "      <th>4</th>\n",
       "      <td>OTHER OFFENSE</td>\n",
       "      <td>11</td>\n",
       "      <td>2020</td>\n",
       "      <td>41.867128</td>\n",
       "      <td>-87.721147</td>\n",
       "      <td>1</td>\n",
       "      <td>1</td>\n",
       "      <td>2</td>\n",
       "      <td>30</td>\n",
       "      <td>7</td>\n",
       "      <td>BATTERY</td>\n",
       "    </tr>\n",
       "  </tbody>\n",
       "</table>\n",
       "</div>"
      ],
      "text/plain": [
       "    Primary Type  District  Year   Latitude  Longitude  Day  Month  Hour  \\\n",
       "0      NARCOTICS        11  2020  41.882140 -87.711045    1      1    21   \n",
       "1        ASSAULT        11  2020  41.893695 -87.709420    1      1    20   \n",
       "2      NARCOTICS        11  2020  41.883271 -87.733413    1      1     0   \n",
       "3          THEFT        11  2020  41.866731 -87.730087    1      1     9   \n",
       "4  OTHER OFFENSE        11  2020  41.867128 -87.721147    1      1     2   \n",
       "\n",
       "   Minute  PrimaryTypeCat    Predicted Result  \n",
       "0      26               6           NARCOTICS  \n",
       "1      45               0           NARCOTICS  \n",
       "2      54               6             BATTERY  \n",
       "3       0               9  DECEPTIVE PRACTICE  \n",
       "4      30               7             BATTERY  "
      ]
     },
     "execution_count": 55,
     "metadata": {},
     "output_type": "execute_result"
    }
   ],
   "source": [
    "# Checking the head of new Data\n",
    "\n",
    "janMonthData.head()"
   ]
  },
  {
   "cell_type": "code",
   "execution_count": 56,
   "metadata": {},
   "outputs": [],
   "source": [
    "# Store the pre-processed data into CSV for further process\n",
    "\n",
    "janMonthData.to_csv (r'C:\\Users\\bhayy\\OneDrive\\Desktop\\Final Year Project\\New folder\\predictedResultForJanData.csv')"
   ]
  }
 ],
 "metadata": {
  "kernelspec": {
   "display_name": "Python 3",
   "language": "python",
   "name": "python3"
  },
  "language_info": {
   "codemirror_mode": {
    "name": "ipython",
    "version": 3
   },
   "file_extension": ".py",
   "mimetype": "text/x-python",
   "name": "python",
   "nbconvert_exporter": "python",
   "pygments_lexer": "ipython3",
   "version": "3.7.3"
  }
 },
 "nbformat": 4,
 "nbformat_minor": 2
}
